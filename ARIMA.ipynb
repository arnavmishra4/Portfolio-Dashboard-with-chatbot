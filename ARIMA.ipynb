{
 "cells": [
  {
   "cell_type": "code",
   "execution_count": 7,
   "metadata": {},
   "outputs": [],
   "source": [
    "import pandas as pd\n",
    "from statsmodels.tsa.arima.model import ARIMA\n",
    "from openpyxl import load_workbook, Workbook\n",
    "from datetime import datetime, timedelta\n",
    "import numpy as np\n",
    "import time \n",
    "\n",
    "# Load data from Model.xlsx\n",
    "data = pd.read_excel(r\"D:\\All_Coding_stuff\\FinancialDashboard\\Model.xlsx\")\n",
    "closed_prices = data['Close']\n",
    "\n",
    "# Infinite loop for continuous prediction\n",
    "while True:\n",
    "    # Create ARIMA model and fit it to the data\n",
    "    model = ARIMA(closed_prices, order=(5, 1, 0))\n",
    "    model_fit = model.fit()\n",
    "\n",
    "    # Forecast next 5 days\n",
    "    forecast = model_fit.forecast(steps=5)\n",
    "\n",
    "    # Get the current date\n",
    "    current_date = datetime.now().strftime(\"%Y-%m-%d\")\n",
    "\n",
    "    # Create or load ARIMA predictions file\n",
    "    prediction_file_path = 'ArimaPredictions.xlsx'\n",
    "    try:\n",
    "        pred_wb = load_workbook(prediction_file_path)\n",
    "        pred_sheet = pred_wb.active\n",
    "    except FileNotFoundError:\n",
    "        pred_wb = Workbook()\n",
    "        pred_sheet = pred_wb.active\n",
    "        pred_sheet['A1'] = 'Date'\n",
    "        for i in range(1, 6):\n",
    "            pred_sheet.cell(row=1, column=i + 1).value = f'Prediction {i}'\n",
    "\n",
    "    # Append forecasted prices to the prediction file\n",
    "    pred_sheet.append([current_date] + list(forecast))\n",
    "    pred_wb.save(filename=prediction_file_path)\n",
    "\n",
    "    # Wait for the next iteration (e.g., 1 day)\n",
    "    time.sleep(86400)\n"
   ]
  }
 ],
 "metadata": {
  "kernelspec": {
   "display_name": "Python 3",
   "language": "python",
   "name": "python3"
  },
  "language_info": {
   "codemirror_mode": {
    "name": "ipython",
    "version": 3
   },
   "file_extension": ".py",
   "mimetype": "text/x-python",
   "name": "python",
   "nbconvert_exporter": "python",
   "pygments_lexer": "ipython3",
   "version": "3.11.3"
  }
 },
 "nbformat": 4,
 "nbformat_minor": 2
}
