{
 "cells": [
  {
   "cell_type": "code",
   "execution_count": 5,
   "metadata": {},
   "outputs": [
    {
     "name": "stdout",
     "output_type": "stream",
     "text": [
      "Processing completed. Extracted and filtered text saved to extracted_text.txt\n"
     ]
    }
   ],
   "source": [
    "import os\n",
    "import fitz  # PyMuPDF\n",
    "import re\n",
    "def get_all_folders(root_dir):\n",
    "    folder_paths = []\n",
    "    for dirpath, dirnames, filenames in os.walk(root_dir):\n",
    "        for dirname in dirnames:\n",
    "            folder_paths.append(os.path.join(dirpath, dirname))\n",
    "    return folder_paths\n",
    "\n",
    "def extract_text(pdf_path):\n",
    "    extracted_text = []\n",
    "    try:\n",
    "        pdf_document = fitz.open(pdf_path)\n",
    "        for page_number in range(pdf_document.page_count):\n",
    "            page = pdf_document.load_page(page_number)\n",
    "            text = page.get_text(\"text\")\n",
    "            # Optional: filter non-printable characters\n",
    "            text = re.sub(r'[^\\x20-\\x7E]+', '', text)\n",
    "            extracted_text.append(text)\n",
    "        pdf_document.close()\n",
    "    except Exception as e:\n",
    "        print(f\"Error occurred while processing PDF '{pdf_path}': {e}\")\n",
    "    return extracted_text\n",
    "\n",
    "def filter_text(text):\n",
    "    unique_lines = set()\n",
    "    for page_text in text:\n",
    "        lines = page_text.split('\\n')\n",
    "        for line in lines:\n",
    "            # Strip whitespace and check if the line is not empty\n",
    "            if line.strip() and line.strip() not in unique_lines:\n",
    "                unique_lines.add(line.strip())\n",
    "    return '\\n'.join(unique_lines)\n",
    "\n",
    "\n",
    "root_directory = '/path/to/your/directory'\n",
    "folder_path = get_all_folders(root_directory)\n",
    "for folder in folder_path:\n",
    "    print(folder)\n",
    "\n",
    "# Path to the folder containing PDF files\n",
    "\n",
    "# Output file path to save the combined text\n",
    "\n",
    "# Iterate over each PDF file in the folder\n",
    "for folder_name in folder_path:\n",
    "    for file_name in os.listdir(folder_path):\n",
    "        if file_name.endswith('.pdf'):\n",
    "            pdf_path = os.path.join(folder_path, file_name)\n",
    "            try:\n",
    "                extracted_text = extract_text(pdf_path)\n",
    "                filtered_text = filter_text(extracted_text)\n",
    "                \n",
    "                # Save filtered text every iteration\n",
    "                with open(f'{company_name}.txt', 'a', encoding='utf-8') as output_file:\n",
    "                    output_file.write(filtered_text + '\\n')\n",
    "            except Exception as e:\n",
    "                print(f\"Error occurred while processing PDF '{pdf_path}': {e}\")\n"
   ]
  }
 ],
 "metadata": {
  "kernelspec": {
   "display_name": "Python 3 (ipykernel)",
   "language": "python",
   "name": "python3"
  }
 },
 "nbformat": 4,
 "nbformat_minor": 2
}
